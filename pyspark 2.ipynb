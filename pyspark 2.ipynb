{
 "cells": [
  {
   "cell_type": "code",
   "execution_count": 94,
   "id": "29eea074",
   "metadata": {},
   "outputs": [],
   "source": [
    "import pyspark"
   ]
  },
  {
   "cell_type": "code",
   "execution_count": 95,
   "id": "f043d400",
   "metadata": {},
   "outputs": [],
   "source": [
    "from pyspark.sql import SparkSession"
   ]
  },
  {
   "cell_type": "code",
   "execution_count": 96,
   "id": "bb28f71b",
   "metadata": {},
   "outputs": [],
   "source": [
    "spark = SparkSession.builder.appName('Practise').getOrCreate()"
   ]
  },
  {
   "cell_type": "code",
   "execution_count": 97,
   "id": "fa33ab8f",
   "metadata": {},
   "outputs": [
    {
     "data": {
      "text/html": [
       "\n",
       "            <div>\n",
       "                <p><b>SparkSession - in-memory</b></p>\n",
       "                \n",
       "        <div>\n",
       "            <p><b>SparkContext</b></p>\n",
       "\n",
       "            <p><a href=\"http://LAPTOP-6HV08AQA:4040\">Spark UI</a></p>\n",
       "\n",
       "            <dl>\n",
       "              <dt>Version</dt>\n",
       "                <dd><code>v3.3.1</code></dd>\n",
       "              <dt>Master</dt>\n",
       "                <dd><code>local[*]</code></dd>\n",
       "              <dt>AppName</dt>\n",
       "                <dd><code>Practise</code></dd>\n",
       "            </dl>\n",
       "        </div>\n",
       "        \n",
       "            </div>\n",
       "        "
      ],
      "text/plain": [
       "<pyspark.sql.session.SparkSession at 0x252ffb65990>"
      ]
     },
     "execution_count": 97,
     "metadata": {},
     "output_type": "execute_result"
    }
   ],
   "source": [
    "spark"
   ]
  },
  {
   "cell_type": "code",
   "execution_count": 98,
   "id": "a8e6bd0f",
   "metadata": {},
   "outputs": [],
   "source": [
    "df = spark.read.option('header','true').csv(\"final_dataset.csv\")"
   ]
  },
  {
   "cell_type": "code",
   "execution_count": 99,
   "id": "ae7e38dd",
   "metadata": {},
   "outputs": [
    {
     "name": "stdout",
     "output_type": "stream",
     "text": [
      "+---+--------+-------------+-------------+----+----+---+----+----+----+----+---+---+---+---+---+---+---+---+---+---+---+---+---+------------+------------+---------+---------+------------+------------+-------------+-------------+------------+------------+-------------+-------------+----+----+-------+-----------+\n",
      "|_c0|    Date|     HomeTeam|     AwayTeam|FTHG|FTAG|FTR|HTGS|ATGS|HTGC|ATGC|HTP|ATP|HM1|HM2|HM3|HM4|HM5|AM1|AM2|AM3|AM4|AM5| MW|HTFormPtsStr|ATFormPtsStr|HTFormPts|ATFormPts|HTWinStreak3|HTWinStreak5|HTLossStreak3|HTLossStreak5|ATWinStreak3|ATWinStreak5|ATLossStreak3|ATLossStreak5|HTGD|ATGD|DiffPts|DiffFormPts|\n",
      "+---+--------+-------------+-------------+----+----+---+----+----+----+----+---+---+---+---+---+---+---+---+---+---+---+---+---+------------+------------+---------+---------+------------+------------+-------------+-------------+------------+------------+-------------+-------------+----+----+-------+-----------+\n",
      "|  0|19/08/00|     Charlton|     Man City|   4|   0|  H|   0|   0|   0|   0|0.0|0.0|  M|  M|  M|  M|  M|  M|  M|  M|  M|  M|1.0|       MMMMM|       MMMMM|        0|        0|           0|           0|            0|            0|           0|           0|            0|            0| 0.0| 0.0|    0.0|        0.0|\n",
      "|  1|19/08/00|      Chelsea|     West Ham|   4|   2|  H|   0|   0|   0|   0|0.0|0.0|  M|  M|  M|  M|  M|  M|  M|  M|  M|  M|1.0|       MMMMM|       MMMMM|        0|        0|           0|           0|            0|            0|           0|           0|            0|            0| 0.0| 0.0|    0.0|        0.0|\n",
      "|  2|19/08/00|     Coventry|Middlesbrough|   1|   3| NH|   0|   0|   0|   0|0.0|0.0|  M|  M|  M|  M|  M|  M|  M|  M|  M|  M|1.0|       MMMMM|       MMMMM|        0|        0|           0|           0|            0|            0|           0|           0|            0|            0| 0.0| 0.0|    0.0|        0.0|\n",
      "|  3|19/08/00|        Derby|  Southampton|   2|   2| NH|   0|   0|   0|   0|0.0|0.0|  M|  M|  M|  M|  M|  M|  M|  M|  M|  M|1.0|       MMMMM|       MMMMM|        0|        0|           0|           0|            0|            0|           0|           0|            0|            0| 0.0| 0.0|    0.0|        0.0|\n",
      "|  4|19/08/00|        Leeds|      Everton|   2|   0|  H|   0|   0|   0|   0|0.0|0.0|  M|  M|  M|  M|  M|  M|  M|  M|  M|  M|1.0|       MMMMM|       MMMMM|        0|        0|           0|           0|            0|            0|           0|           0|            0|            0| 0.0| 0.0|    0.0|        0.0|\n",
      "|  5|19/08/00|    Leicester|  Aston Villa|   0|   0| NH|   0|   0|   0|   0|0.0|0.0|  M|  M|  M|  M|  M|  M|  M|  M|  M|  M|1.0|       MMMMM|       MMMMM|        0|        0|           0|           0|            0|            0|           0|           0|            0|            0| 0.0| 0.0|    0.0|        0.0|\n",
      "|  6|19/08/00|    Liverpool|     Bradford|   1|   0|  H|   0|   0|   0|   0|0.0|0.0|  M|  M|  M|  M|  M|  M|  M|  M|  M|  M|1.0|       MMMMM|       MMMMM|        0|        0|           0|           0|            0|            0|           0|           0|            0|            0| 0.0| 0.0|    0.0|        0.0|\n",
      "|  7|19/08/00|   Sunderland|      Arsenal|   1|   0|  H|   0|   0|   0|   0|0.0|0.0|  M|  M|  M|  M|  M|  M|  M|  M|  M|  M|1.0|       MMMMM|       MMMMM|        0|        0|           0|           0|            0|            0|           0|           0|            0|            0| 0.0| 0.0|    0.0|        0.0|\n",
      "|  8|19/08/00|    Tottenham|      Ipswich|   3|   1|  H|   0|   0|   0|   0|0.0|0.0|  M|  M|  M|  M|  M|  M|  M|  M|  M|  M|1.0|       MMMMM|       MMMMM|        0|        0|           0|           0|            0|            0|           0|           0|            0|            0| 0.0| 0.0|    0.0|        0.0|\n",
      "|  9|20/08/00|   Man United|    Newcastle|   2|   0|  H|   0|   0|   0|   0|0.0|0.0|  M|  M|  M|  M|  M|  M|  M|  M|  M|  M|1.0|       MMMMM|       MMMMM|        0|        0|           0|           0|            0|            0|           0|           0|            0|            0| 0.0| 0.0|    0.0|        0.0|\n",
      "| 10|21/08/00|      Arsenal|    Liverpool|   2|   0|  H|   0|   1|   1|   0|0.0|1.5|  L|  M|  M|  M|  M|  W|  M|  M|  M|  M|2.0|       LMMMM|       WMMMM|        0|        3|           0|           0|            0|            0|           0|           0|            0|            0|-0.5| 0.5|   -1.5|       -1.5|\n",
      "| 11|22/08/00|     Bradford|      Chelsea|   2|   0|  H|   0|   4|   1|   2|0.0|1.5|  L|  M|  M|  M|  M|  W|  M|  M|  M|  M|2.0|       LMMMM|       WMMMM|        0|        3|           0|           0|            0|            0|           0|           0|            0|            0|-0.5| 1.0|   -1.5|       -1.5|\n",
      "| 12|22/08/00|      Ipswich|   Man United|   1|   1| NH|   1|   2|   3|   0|0.0|1.5|  L|  M|  M|  M|  M|  W|  M|  M|  M|  M|2.0|       LMMMM|       WMMMM|        0|        3|           0|           0|            0|            0|           0|           0|            0|            0|-1.0| 1.0|   -1.5|       -1.5|\n",
      "| 13|22/08/00|Middlesbrough|    Tottenham|   1|   1| NH|   3|   3|   1|   1|1.5|1.5|  W|  M|  M|  M|  M|  W|  M|  M|  M|  M|2.0|       WMMMM|       WMMMM|        3|        3|           0|           0|            0|            0|           0|           0|            0|            0| 1.0| 1.0|    0.0|        0.0|\n",
      "| 14|23/08/00|      Everton|     Charlton|   3|   0|  H|   0|   4|   2|   0|0.0|1.5|  L|  M|  M|  M|  M|  W|  M|  M|  M|  M|2.0|       LMMMM|       WMMMM|        0|        3|           0|           0|            0|            0|           0|           0|            0|            0|-1.0| 2.0|   -1.5|       -1.5|\n",
      "| 15|23/08/00|     Man City|   Sunderland|   4|   2|  H|   0|   1|   4|   0|0.0|1.5|  L|  M|  M|  M|  M|  W|  M|  M|  M|  M|2.0|       LMMMM|       WMMMM|        0|        3|           0|           0|            0|            0|           0|           0|            0|            0|-2.0| 0.5|   -1.5|       -1.5|\n",
      "| 16|23/08/00|    Newcastle|        Derby|   3|   2|  H|   0|   2|   2|   2|0.0|0.5|  L|  M|  M|  M|  M|  D|  M|  M|  M|  M|2.0|       LMMMM|       DMMMM|        0|        1|           0|           0|            0|            0|           0|           0|            0|            0|-1.0| 0.0|   -0.5|       -0.5|\n",
      "| 17|23/08/00|  Southampton|     Coventry|   1|   2| NH|   2|   1|   2|   3|0.5|0.0|  D|  M|  M|  M|  M|  L|  M|  M|  M|  M|2.0|       DMMMM|       LMMMM|        1|        0|           0|           0|            0|            0|           0|           0|            0|            0| 0.0|-1.0|    0.5|        0.5|\n",
      "| 18|23/08/00|     West Ham|    Leicester|   0|   1| NH|   2|   0|   4|   0|0.0|0.5|  L|  M|  M|  M|  M|  D|  M|  M|  M|  M|2.0|       LMMMM|       DMMMM|        0|        1|           0|           0|            0|            0|           0|           0|            0|            0|-1.0| 0.0|   -0.5|       -0.5|\n",
      "| 19|26/08/00|      Arsenal|     Charlton|   5|   3|  H|   0|   4|   1|   0|0.0|1.5|  L|  M|  M|  M|  M|  W|  M|  M|  M|  M|2.0|       LMMMM|       WMMMM|        0|        3|           0|           0|            0|            0|           0|           0|            0|            0|-0.5| 2.0|   -1.5|       -1.5|\n",
      "+---+--------+-------------+-------------+----+----+---+----+----+----+----+---+---+---+---+---+---+---+---+---+---+---+---+---+------------+------------+---------+---------+------------+------------+-------------+-------------+------------+------------+-------------+-------------+----+----+-------+-----------+\n",
      "only showing top 20 rows\n",
      "\n"
     ]
    }
   ],
   "source": [
    "df.show()"
   ]
  },
  {
   "cell_type": "code",
   "execution_count": 100,
   "id": "6c42c46b",
   "metadata": {},
   "outputs": [
    {
     "name": "stdout",
     "output_type": "stream",
     "text": [
      "root\n",
      " |-- _c0: string (nullable = true)\n",
      " |-- Date: string (nullable = true)\n",
      " |-- HomeTeam: string (nullable = true)\n",
      " |-- AwayTeam: string (nullable = true)\n",
      " |-- FTHG: string (nullable = true)\n",
      " |-- FTAG: string (nullable = true)\n",
      " |-- FTR: string (nullable = true)\n",
      " |-- HTGS: string (nullable = true)\n",
      " |-- ATGS: string (nullable = true)\n",
      " |-- HTGC: string (nullable = true)\n",
      " |-- ATGC: string (nullable = true)\n",
      " |-- HTP: string (nullable = true)\n",
      " |-- ATP: string (nullable = true)\n",
      " |-- HM1: string (nullable = true)\n",
      " |-- HM2: string (nullable = true)\n",
      " |-- HM3: string (nullable = true)\n",
      " |-- HM4: string (nullable = true)\n",
      " |-- HM5: string (nullable = true)\n",
      " |-- AM1: string (nullable = true)\n",
      " |-- AM2: string (nullable = true)\n",
      " |-- AM3: string (nullable = true)\n",
      " |-- AM4: string (nullable = true)\n",
      " |-- AM5: string (nullable = true)\n",
      " |-- MW: string (nullable = true)\n",
      " |-- HTFormPtsStr: string (nullable = true)\n",
      " |-- ATFormPtsStr: string (nullable = true)\n",
      " |-- HTFormPts: string (nullable = true)\n",
      " |-- ATFormPts: string (nullable = true)\n",
      " |-- HTWinStreak3: string (nullable = true)\n",
      " |-- HTWinStreak5: string (nullable = true)\n",
      " |-- HTLossStreak3: string (nullable = true)\n",
      " |-- HTLossStreak5: string (nullable = true)\n",
      " |-- ATWinStreak3: string (nullable = true)\n",
      " |-- ATWinStreak5: string (nullable = true)\n",
      " |-- ATLossStreak3: string (nullable = true)\n",
      " |-- ATLossStreak5: string (nullable = true)\n",
      " |-- HTGD: string (nullable = true)\n",
      " |-- ATGD: string (nullable = true)\n",
      " |-- DiffPts: string (nullable = true)\n",
      " |-- DiffFormPts: string (nullable = true)\n",
      "\n"
     ]
    }
   ],
   "source": [
    "df.printSchema()"
   ]
  },
  {
   "cell_type": "code",
   "execution_count": 101,
   "id": "1df75f92",
   "metadata": {},
   "outputs": [],
   "source": [
    "df = df.drop(\"c0\",\"FTHG\",\"FTAG\",\"HTGS\",\"ATGS\",\"HTGC\",\"ATGC\",\"HTP\",\"ATP\",\"HM1\",\"HM2\",\"HM3\",\"HM4\",\"HM5\",\"AM1\",\"AM2\",\"AM3\",\"AM4\",\"AM5\",\"MW\",\"HTFormPtsStr\",\"ATFormPtsStr\",\"HTFormPts\",\"ATFormPts\",\"HTWinStreak3\",\"HTWinStreak5\",\"HTLossStreak3\",\"HTLossStreak5\",\"ATWinStreak3\",\"ATWinStreak5\",\"ATLossStreak3\",\"ATLossStreak5\",\"HTGD\",\"ATGD\",\"DiffPts\",\"DiffFormPts\")"
   ]
  },
  {
   "cell_type": "code",
   "execution_count": 102,
   "id": "a045fcbc",
   "metadata": {},
   "outputs": [
    {
     "name": "stdout",
     "output_type": "stream",
     "text": [
      "+---+--------+-------------+-------------+---+\n",
      "|_c0|    Date|     HomeTeam|     AwayTeam|FTR|\n",
      "+---+--------+-------------+-------------+---+\n",
      "|  0|19/08/00|     Charlton|     Man City|  H|\n",
      "|  1|19/08/00|      Chelsea|     West Ham|  H|\n",
      "|  2|19/08/00|     Coventry|Middlesbrough| NH|\n",
      "|  3|19/08/00|        Derby|  Southampton| NH|\n",
      "|  4|19/08/00|        Leeds|      Everton|  H|\n",
      "|  5|19/08/00|    Leicester|  Aston Villa| NH|\n",
      "|  6|19/08/00|    Liverpool|     Bradford|  H|\n",
      "|  7|19/08/00|   Sunderland|      Arsenal|  H|\n",
      "|  8|19/08/00|    Tottenham|      Ipswich|  H|\n",
      "|  9|20/08/00|   Man United|    Newcastle|  H|\n",
      "| 10|21/08/00|      Arsenal|    Liverpool|  H|\n",
      "| 11|22/08/00|     Bradford|      Chelsea|  H|\n",
      "| 12|22/08/00|      Ipswich|   Man United| NH|\n",
      "| 13|22/08/00|Middlesbrough|    Tottenham| NH|\n",
      "| 14|23/08/00|      Everton|     Charlton|  H|\n",
      "| 15|23/08/00|     Man City|   Sunderland|  H|\n",
      "| 16|23/08/00|    Newcastle|        Derby|  H|\n",
      "| 17|23/08/00|  Southampton|     Coventry| NH|\n",
      "| 18|23/08/00|     West Ham|    Leicester| NH|\n",
      "| 19|26/08/00|      Arsenal|     Charlton|  H|\n",
      "+---+--------+-------------+-------------+---+\n",
      "only showing top 20 rows\n",
      "\n"
     ]
    }
   ],
   "source": [
    "df.show()"
   ]
  },
  {
   "cell_type": "code",
   "execution_count": 103,
   "id": "a9e719d4",
   "metadata": {},
   "outputs": [
    {
     "name": "stdout",
     "output_type": "stream",
     "text": [
      "+---+--------+-------------+-------------+---+----------+\n",
      "|_c0|    Date|     HomeTeam|     AwayTeam|FTR|labelIndex|\n",
      "+---+--------+-------------+-------------+---+----------+\n",
      "|  0|19/08/00|     Charlton|     Man City|  H|       1.0|\n",
      "|  1|19/08/00|      Chelsea|     West Ham|  H|       1.0|\n",
      "|  2|19/08/00|     Coventry|Middlesbrough| NH|       0.0|\n",
      "|  3|19/08/00|        Derby|  Southampton| NH|       0.0|\n",
      "|  4|19/08/00|        Leeds|      Everton|  H|       1.0|\n",
      "|  5|19/08/00|    Leicester|  Aston Villa| NH|       0.0|\n",
      "|  6|19/08/00|    Liverpool|     Bradford|  H|       1.0|\n",
      "|  7|19/08/00|   Sunderland|      Arsenal|  H|       1.0|\n",
      "|  8|19/08/00|    Tottenham|      Ipswich|  H|       1.0|\n",
      "|  9|20/08/00|   Man United|    Newcastle|  H|       1.0|\n",
      "| 10|21/08/00|      Arsenal|    Liverpool|  H|       1.0|\n",
      "| 11|22/08/00|     Bradford|      Chelsea|  H|       1.0|\n",
      "| 12|22/08/00|      Ipswich|   Man United| NH|       0.0|\n",
      "| 13|22/08/00|Middlesbrough|    Tottenham| NH|       0.0|\n",
      "| 14|23/08/00|      Everton|     Charlton|  H|       1.0|\n",
      "| 15|23/08/00|     Man City|   Sunderland|  H|       1.0|\n",
      "| 16|23/08/00|    Newcastle|        Derby|  H|       1.0|\n",
      "| 17|23/08/00|  Southampton|     Coventry| NH|       0.0|\n",
      "| 18|23/08/00|     West Ham|    Leicester| NH|       0.0|\n",
      "| 19|26/08/00|      Arsenal|     Charlton|  H|       1.0|\n",
      "+---+--------+-------------+-------------+---+----------+\n",
      "only showing top 20 rows\n",
      "\n"
     ]
    }
   ],
   "source": [
    "from pyspark.ml.feature import StringIndexer\n",
    "\n",
    "label_stringIdx = StringIndexer(inputCol = 'FTR', outputCol = 'labelIndex')\n",
    "df = label_stringIdx.fit(df).transform(df)\n",
    "df.show()"
   ]
  },
  {
   "cell_type": "code",
   "execution_count": 104,
   "id": "fd08328a",
   "metadata": {},
   "outputs": [
    {
     "name": "stdout",
     "output_type": "stream",
     "text": [
      "+---+--------+-------------+-------------+---+----------+----+\n",
      "|_c0|    Date|     HomeTeam|     AwayTeam|FTR|labelIndex|  HT|\n",
      "+---+--------+-------------+-------------+---+----------+----+\n",
      "|  0|19/08/00|     Charlton|     Man City|  H|       1.0|20.0|\n",
      "|  1|19/08/00|      Chelsea|     West Ham|  H|       1.0| 1.0|\n",
      "|  2|19/08/00|     Coventry|Middlesbrough| NH|       0.0|40.0|\n",
      "|  3|19/08/00|        Derby|  Southampton| NH|       0.0|32.0|\n",
      "|  4|19/08/00|        Leeds|      Everton|  H|       1.0|28.0|\n",
      "|  5|19/08/00|    Leicester|  Aston Villa| NH|       0.0|21.0|\n",
      "|  6|19/08/00|    Liverpool|     Bradford|  H|       1.0| 3.0|\n",
      "|  7|19/08/00|   Sunderland|      Arsenal|  H|       1.0|10.0|\n",
      "|  8|19/08/00|    Tottenham|      Ipswich|  H|       1.0| 5.0|\n",
      "|  9|20/08/00|   Man United|    Newcastle|  H|       1.0| 4.0|\n",
      "| 10|21/08/00|      Arsenal|    Liverpool|  H|       1.0| 0.0|\n",
      "| 11|22/08/00|     Bradford|      Chelsea|  H|       1.0|37.0|\n",
      "| 12|22/08/00|      Ipswich|   Man United| NH|       0.0|35.0|\n",
      "| 13|22/08/00|Middlesbrough|    Tottenham| NH|       0.0|17.0|\n",
      "| 14|23/08/00|      Everton|     Charlton|  H|       1.0| 2.0|\n",
      "| 15|23/08/00|     Man City|   Sunderland|  H|       1.0| 6.0|\n",
      "| 16|23/08/00|    Newcastle|        Derby|  H|       1.0| 8.0|\n",
      "| 17|23/08/00|  Southampton|     Coventry| NH|       0.0|15.0|\n",
      "| 18|23/08/00|     West Ham|    Leicester| NH|       0.0| 9.0|\n",
      "| 19|26/08/00|      Arsenal|     Charlton|  H|       1.0| 0.0|\n",
      "+---+--------+-------------+-------------+---+----------+----+\n",
      "only showing top 20 rows\n",
      "\n"
     ]
    }
   ],
   "source": [
    "from pyspark.ml.feature import StringIndexer\n",
    "\n",
    "label_stringIdx = StringIndexer(inputCol = 'HomeTeam', outputCol = 'HT')\n",
    "df = label_stringIdx.fit(df).transform(df)\n",
    "df.show()"
   ]
  },
  {
   "cell_type": "code",
   "execution_count": 105,
   "id": "decb109c",
   "metadata": {},
   "outputs": [
    {
     "name": "stdout",
     "output_type": "stream",
     "text": [
      "+---+--------+-------------+-------------+---+----------+----+----+\n",
      "|_c0|    Date|     HomeTeam|     AwayTeam|FTR|labelIndex|  HT|  AT|\n",
      "+---+--------+-------------+-------------+---+----------+----+----+\n",
      "|  0|19/08/00|     Charlton|     Man City|  H|       1.0|20.0| 6.0|\n",
      "|  1|19/08/00|      Chelsea|     West Ham|  H|       1.0| 1.0| 9.0|\n",
      "|  2|19/08/00|     Coventry|Middlesbrough| NH|       0.0|40.0|17.0|\n",
      "|  3|19/08/00|        Derby|  Southampton| NH|       0.0|32.0|15.0|\n",
      "|  4|19/08/00|        Leeds|      Everton|  H|       1.0|28.0| 2.0|\n",
      "|  5|19/08/00|    Leicester|  Aston Villa| NH|       0.0|21.0| 7.0|\n",
      "|  6|19/08/00|    Liverpool|     Bradford|  H|       1.0| 3.0|37.0|\n",
      "|  7|19/08/00|   Sunderland|      Arsenal|  H|       1.0|10.0| 0.0|\n",
      "|  8|19/08/00|    Tottenham|      Ipswich|  H|       1.0| 5.0|35.0|\n",
      "|  9|20/08/00|   Man United|    Newcastle|  H|       1.0| 4.0| 8.0|\n",
      "| 10|21/08/00|      Arsenal|    Liverpool|  H|       1.0| 0.0| 3.0|\n",
      "| 11|22/08/00|     Bradford|      Chelsea|  H|       1.0|37.0| 1.0|\n",
      "| 12|22/08/00|      Ipswich|   Man United| NH|       0.0|35.0| 4.0|\n",
      "| 13|22/08/00|Middlesbrough|    Tottenham| NH|       0.0|17.0| 5.0|\n",
      "| 14|23/08/00|      Everton|     Charlton|  H|       1.0| 2.0|20.0|\n",
      "| 15|23/08/00|     Man City|   Sunderland|  H|       1.0| 6.0|10.0|\n",
      "| 16|23/08/00|    Newcastle|        Derby|  H|       1.0| 8.0|32.0|\n",
      "| 17|23/08/00|  Southampton|     Coventry| NH|       0.0|15.0|40.0|\n",
      "| 18|23/08/00|     West Ham|    Leicester| NH|       0.0| 9.0|21.0|\n",
      "| 19|26/08/00|      Arsenal|     Charlton|  H|       1.0| 0.0|20.0|\n",
      "+---+--------+-------------+-------------+---+----------+----+----+\n",
      "only showing top 20 rows\n",
      "\n"
     ]
    }
   ],
   "source": [
    "from pyspark.ml.feature import StringIndexer\n",
    "\n",
    "label_stringIdx = StringIndexer(inputCol = 'AwayTeam', outputCol = 'AT')\n",
    "df = label_stringIdx.fit(df).transform(df)\n",
    "df.show()"
   ]
  },
  {
   "cell_type": "code",
   "execution_count": 106,
   "id": "d8418e85",
   "metadata": {},
   "outputs": [
    {
     "name": "stdout",
     "output_type": "stream",
     "text": [
      "+---+--------+-------------+-------------+---+----------+----+----+-----------+\n",
      "|_c0|    Date|     HomeTeam|     AwayTeam|FTR|labelIndex|  HT|  AT|   features|\n",
      "+---+--------+-------------+-------------+---+----------+----+----+-----------+\n",
      "|  0|19/08/00|     Charlton|     Man City|  H|       1.0|20.0| 6.0| [20.0,6.0]|\n",
      "|  1|19/08/00|      Chelsea|     West Ham|  H|       1.0| 1.0| 9.0|  [1.0,9.0]|\n",
      "|  2|19/08/00|     Coventry|Middlesbrough| NH|       0.0|40.0|17.0|[40.0,17.0]|\n",
      "|  3|19/08/00|        Derby|  Southampton| NH|       0.0|32.0|15.0|[32.0,15.0]|\n",
      "|  4|19/08/00|        Leeds|      Everton|  H|       1.0|28.0| 2.0| [28.0,2.0]|\n",
      "|  5|19/08/00|    Leicester|  Aston Villa| NH|       0.0|21.0| 7.0| [21.0,7.0]|\n",
      "|  6|19/08/00|    Liverpool|     Bradford|  H|       1.0| 3.0|37.0| [3.0,37.0]|\n",
      "|  7|19/08/00|   Sunderland|      Arsenal|  H|       1.0|10.0| 0.0| [10.0,0.0]|\n",
      "|  8|19/08/00|    Tottenham|      Ipswich|  H|       1.0| 5.0|35.0| [5.0,35.0]|\n",
      "|  9|20/08/00|   Man United|    Newcastle|  H|       1.0| 4.0| 8.0|  [4.0,8.0]|\n",
      "| 10|21/08/00|      Arsenal|    Liverpool|  H|       1.0| 0.0| 3.0|  [0.0,3.0]|\n",
      "| 11|22/08/00|     Bradford|      Chelsea|  H|       1.0|37.0| 1.0| [37.0,1.0]|\n",
      "| 12|22/08/00|      Ipswich|   Man United| NH|       0.0|35.0| 4.0| [35.0,4.0]|\n",
      "| 13|22/08/00|Middlesbrough|    Tottenham| NH|       0.0|17.0| 5.0| [17.0,5.0]|\n",
      "| 14|23/08/00|      Everton|     Charlton|  H|       1.0| 2.0|20.0| [2.0,20.0]|\n",
      "| 15|23/08/00|     Man City|   Sunderland|  H|       1.0| 6.0|10.0| [6.0,10.0]|\n",
      "| 16|23/08/00|    Newcastle|        Derby|  H|       1.0| 8.0|32.0| [8.0,32.0]|\n",
      "| 17|23/08/00|  Southampton|     Coventry| NH|       0.0|15.0|40.0|[15.0,40.0]|\n",
      "| 18|23/08/00|     West Ham|    Leicester| NH|       0.0| 9.0|21.0| [9.0,21.0]|\n",
      "| 19|26/08/00|      Arsenal|     Charlton|  H|       1.0| 0.0|20.0| [0.0,20.0]|\n",
      "+---+--------+-------------+-------------+---+----------+----+----+-----------+\n",
      "only showing top 20 rows\n",
      "\n"
     ]
    }
   ],
   "source": [
    "from pyspark.ml.feature import VectorAssembler\n",
    "\n",
    "numericCols = ['HT', 'AT']\n",
    "assembler = VectorAssembler(inputCols=numericCols, outputCol=\"features\")\n",
    "df = assembler.transform(df)\n",
    "df.show()"
   ]
  },
  {
   "cell_type": "code",
   "execution_count": 108,
   "id": "b018a801",
   "metadata": {},
   "outputs": [
    {
     "name": "stdout",
     "output_type": "stream",
     "text": [
      "       _c0      Date     HomeTeam       AwayTeam FTR  labelIndex    HT    AT  \\\n",
      "0        0  19/08/00     Charlton       Man City   H         1.0  20.0   6.0   \n",
      "1        1  19/08/00      Chelsea       West Ham   H         1.0   1.0   9.0   \n",
      "2        2  19/08/00     Coventry  Middlesbrough  NH         0.0  40.0  17.0   \n",
      "3        3  19/08/00        Derby    Southampton  NH         0.0  32.0  15.0   \n",
      "4        4  19/08/00        Leeds        Everton   H         1.0  28.0   2.0   \n",
      "...    ...       ...          ...            ...  ..         ...   ...   ...   \n",
      "6835  6835  13/05/18    Newcastle        Chelsea   H         1.0   8.0   1.0   \n",
      "6836  6836  13/05/18  Southampton       Man City  NH         0.0  15.0   6.0   \n",
      "6837  6837  13/05/18      Swansea          Stoke  NH         0.0  23.0  16.0   \n",
      "6838  6838  13/05/18    Tottenham      Leicester   H         1.0   5.0  21.0   \n",
      "6839  6839  13/05/18     West Ham        Everton   H         1.0   9.0   2.0   \n",
      "\n",
      "          features  \n",
      "0      [20.0, 6.0]  \n",
      "1       [1.0, 9.0]  \n",
      "2     [40.0, 17.0]  \n",
      "3     [32.0, 15.0]  \n",
      "4      [28.0, 2.0]  \n",
      "...            ...  \n",
      "6835    [8.0, 1.0]  \n",
      "6836   [15.0, 6.0]  \n",
      "6837  [23.0, 16.0]  \n",
      "6838   [5.0, 21.0]  \n",
      "6839    [9.0, 2.0]  \n",
      "\n",
      "[6840 rows x 9 columns]\n"
     ]
    }
   ],
   "source": [
    "df = df.toPandas()\n",
    "print(df)"
   ]
  },
  {
   "cell_type": "code",
   "execution_count": 109,
   "id": "f1e0778a",
   "metadata": {},
   "outputs": [
    {
     "data": {
      "text/html": [
       "<div>\n",
       "<style scoped>\n",
       "    .dataframe tbody tr th:only-of-type {\n",
       "        vertical-align: middle;\n",
       "    }\n",
       "\n",
       "    .dataframe tbody tr th {\n",
       "        vertical-align: top;\n",
       "    }\n",
       "\n",
       "    .dataframe thead th {\n",
       "        text-align: right;\n",
       "    }\n",
       "</style>\n",
       "<table border=\"1\" class=\"dataframe\">\n",
       "  <thead>\n",
       "    <tr style=\"text-align: right;\">\n",
       "      <th></th>\n",
       "      <th>_c0</th>\n",
       "      <th>Date</th>\n",
       "      <th>HomeTeam</th>\n",
       "      <th>AwayTeam</th>\n",
       "      <th>FTR</th>\n",
       "      <th>labelIndex</th>\n",
       "      <th>HT</th>\n",
       "      <th>AT</th>\n",
       "      <th>features</th>\n",
       "    </tr>\n",
       "  </thead>\n",
       "  <tbody>\n",
       "    <tr>\n",
       "      <th>0</th>\n",
       "      <td>0</td>\n",
       "      <td>19/08/00</td>\n",
       "      <td>Charlton</td>\n",
       "      <td>Man City</td>\n",
       "      <td>H</td>\n",
       "      <td>1.0</td>\n",
       "      <td>20.0</td>\n",
       "      <td>6.0</td>\n",
       "      <td>[20.0, 6.0]</td>\n",
       "    </tr>\n",
       "    <tr>\n",
       "      <th>1</th>\n",
       "      <td>1</td>\n",
       "      <td>19/08/00</td>\n",
       "      <td>Chelsea</td>\n",
       "      <td>West Ham</td>\n",
       "      <td>H</td>\n",
       "      <td>1.0</td>\n",
       "      <td>1.0</td>\n",
       "      <td>9.0</td>\n",
       "      <td>[1.0, 9.0]</td>\n",
       "    </tr>\n",
       "    <tr>\n",
       "      <th>2</th>\n",
       "      <td>2</td>\n",
       "      <td>19/08/00</td>\n",
       "      <td>Coventry</td>\n",
       "      <td>Middlesbrough</td>\n",
       "      <td>NH</td>\n",
       "      <td>0.0</td>\n",
       "      <td>40.0</td>\n",
       "      <td>17.0</td>\n",
       "      <td>[40.0, 17.0]</td>\n",
       "    </tr>\n",
       "    <tr>\n",
       "      <th>3</th>\n",
       "      <td>3</td>\n",
       "      <td>19/08/00</td>\n",
       "      <td>Derby</td>\n",
       "      <td>Southampton</td>\n",
       "      <td>NH</td>\n",
       "      <td>0.0</td>\n",
       "      <td>32.0</td>\n",
       "      <td>15.0</td>\n",
       "      <td>[32.0, 15.0]</td>\n",
       "    </tr>\n",
       "    <tr>\n",
       "      <th>4</th>\n",
       "      <td>4</td>\n",
       "      <td>19/08/00</td>\n",
       "      <td>Leeds</td>\n",
       "      <td>Everton</td>\n",
       "      <td>H</td>\n",
       "      <td>1.0</td>\n",
       "      <td>28.0</td>\n",
       "      <td>2.0</td>\n",
       "      <td>[28.0, 2.0]</td>\n",
       "    </tr>\n",
       "  </tbody>\n",
       "</table>\n",
       "</div>"
      ],
      "text/plain": [
       "  _c0      Date  HomeTeam       AwayTeam FTR  labelIndex    HT    AT  \\\n",
       "0   0  19/08/00  Charlton       Man City   H         1.0  20.0   6.0   \n",
       "1   1  19/08/00   Chelsea       West Ham   H         1.0   1.0   9.0   \n",
       "2   2  19/08/00  Coventry  Middlesbrough  NH         0.0  40.0  17.0   \n",
       "3   3  19/08/00     Derby    Southampton  NH         0.0  32.0  15.0   \n",
       "4   4  19/08/00     Leeds        Everton   H         1.0  28.0   2.0   \n",
       "\n",
       "       features  \n",
       "0   [20.0, 6.0]  \n",
       "1    [1.0, 9.0]  \n",
       "2  [40.0, 17.0]  \n",
       "3  [32.0, 15.0]  \n",
       "4   [28.0, 2.0]  "
      ]
     },
     "execution_count": 109,
     "metadata": {},
     "output_type": "execute_result"
    }
   ],
   "source": [
    "df.head()"
   ]
  },
  {
   "cell_type": "code",
   "execution_count": 114,
   "id": "d50188cc",
   "metadata": {},
   "outputs": [],
   "source": [
    "train = df[df[\"Date\"] < '2009-01-01']\n",
    "test = df[df[\"Date\"] > '2009-01-01']"
   ]
  },
  {
   "cell_type": "code",
   "execution_count": 115,
   "id": "3603799c",
   "metadata": {},
   "outputs": [
    {
     "data": {
      "text/html": [
       "<style>#sk-container-id-2 {color: black;background-color: white;}#sk-container-id-2 pre{padding: 0;}#sk-container-id-2 div.sk-toggleable {background-color: white;}#sk-container-id-2 label.sk-toggleable__label {cursor: pointer;display: block;width: 100%;margin-bottom: 0;padding: 0.3em;box-sizing: border-box;text-align: center;}#sk-container-id-2 label.sk-toggleable__label-arrow:before {content: \"▸\";float: left;margin-right: 0.25em;color: #696969;}#sk-container-id-2 label.sk-toggleable__label-arrow:hover:before {color: black;}#sk-container-id-2 div.sk-estimator:hover label.sk-toggleable__label-arrow:before {color: black;}#sk-container-id-2 div.sk-toggleable__content {max-height: 0;max-width: 0;overflow: hidden;text-align: left;background-color: #f0f8ff;}#sk-container-id-2 div.sk-toggleable__content pre {margin: 0.2em;color: black;border-radius: 0.25em;background-color: #f0f8ff;}#sk-container-id-2 input.sk-toggleable__control:checked~div.sk-toggleable__content {max-height: 200px;max-width: 100%;overflow: auto;}#sk-container-id-2 input.sk-toggleable__control:checked~label.sk-toggleable__label-arrow:before {content: \"▾\";}#sk-container-id-2 div.sk-estimator input.sk-toggleable__control:checked~label.sk-toggleable__label {background-color: #d4ebff;}#sk-container-id-2 div.sk-label input.sk-toggleable__control:checked~label.sk-toggleable__label {background-color: #d4ebff;}#sk-container-id-2 input.sk-hidden--visually {border: 0;clip: rect(1px 1px 1px 1px);clip: rect(1px, 1px, 1px, 1px);height: 1px;margin: -1px;overflow: hidden;padding: 0;position: absolute;width: 1px;}#sk-container-id-2 div.sk-estimator {font-family: monospace;background-color: #f0f8ff;border: 1px dotted black;border-radius: 0.25em;box-sizing: border-box;margin-bottom: 0.5em;}#sk-container-id-2 div.sk-estimator:hover {background-color: #d4ebff;}#sk-container-id-2 div.sk-parallel-item::after {content: \"\";width: 100%;border-bottom: 1px solid gray;flex-grow: 1;}#sk-container-id-2 div.sk-label:hover label.sk-toggleable__label {background-color: #d4ebff;}#sk-container-id-2 div.sk-serial::before {content: \"\";position: absolute;border-left: 1px solid gray;box-sizing: border-box;top: 0;bottom: 0;left: 50%;z-index: 0;}#sk-container-id-2 div.sk-serial {display: flex;flex-direction: column;align-items: center;background-color: white;padding-right: 0.2em;padding-left: 0.2em;position: relative;}#sk-container-id-2 div.sk-item {position: relative;z-index: 1;}#sk-container-id-2 div.sk-parallel {display: flex;align-items: stretch;justify-content: center;background-color: white;position: relative;}#sk-container-id-2 div.sk-item::before, #sk-container-id-2 div.sk-parallel-item::before {content: \"\";position: absolute;border-left: 1px solid gray;box-sizing: border-box;top: 0;bottom: 0;left: 50%;z-index: -1;}#sk-container-id-2 div.sk-parallel-item {display: flex;flex-direction: column;z-index: 1;position: relative;background-color: white;}#sk-container-id-2 div.sk-parallel-item:first-child::after {align-self: flex-end;width: 50%;}#sk-container-id-2 div.sk-parallel-item:last-child::after {align-self: flex-start;width: 50%;}#sk-container-id-2 div.sk-parallel-item:only-child::after {width: 0;}#sk-container-id-2 div.sk-dashed-wrapped {border: 1px dashed gray;margin: 0 0.4em 0.5em 0.4em;box-sizing: border-box;padding-bottom: 0.4em;background-color: white;}#sk-container-id-2 div.sk-label label {font-family: monospace;font-weight: bold;display: inline-block;line-height: 1.2em;}#sk-container-id-2 div.sk-label-container {text-align: center;}#sk-container-id-2 div.sk-container {/* jupyter's `normalize.less` sets `[hidden] { display: none; }` but bootstrap.min.css set `[hidden] { display: none !important; }` so we also need the `!important` here to be able to override the default hidden behavior on the sphinx rendered scikit-learn.org. See: https://github.com/scikit-learn/scikit-learn/issues/21755 */display: inline-block !important;position: relative;}#sk-container-id-2 div.sk-text-repr-fallback {display: none;}</style><div id=\"sk-container-id-2\" class=\"sk-top-container\"><div class=\"sk-text-repr-fallback\"><pre>RandomForestClassifier(min_samples_split=10, random_state=1)</pre><b>In a Jupyter environment, please rerun this cell to show the HTML representation or trust the notebook. <br />On GitHub, the HTML representation is unable to render, please try loading this page with nbviewer.org.</b></div><div class=\"sk-container\" hidden><div class=\"sk-item\"><div class=\"sk-estimator sk-toggleable\"><input class=\"sk-toggleable__control sk-hidden--visually\" id=\"sk-estimator-id-2\" type=\"checkbox\" checked><label for=\"sk-estimator-id-2\" class=\"sk-toggleable__label sk-toggleable__label-arrow\">RandomForestClassifier</label><div class=\"sk-toggleable__content\"><pre>RandomForestClassifier(min_samples_split=10, random_state=1)</pre></div></div></div></div></div>"
      ],
      "text/plain": [
       "RandomForestClassifier(min_samples_split=10, random_state=1)"
      ]
     },
     "execution_count": 115,
     "metadata": {},
     "output_type": "execute_result"
    }
   ],
   "source": [
    "from sklearn.ensemble import RandomForestClassifier\n",
    "rf = RandomForestClassifier(n_estimators=100, min_samples_split=10, random_state=1)\n",
    "predictors = [\"HT\", \"AT\"]\n",
    "rf.fit(train[predictors], train[\"labelIndex\"])"
   ]
  },
  {
   "cell_type": "code",
   "execution_count": 117,
   "id": "412cf794",
   "metadata": {},
   "outputs": [],
   "source": [
    "import pickle\n",
    "pickle.dump(rf,open('model1','wb'))"
   ]
  },
  {
   "cell_type": "code",
   "execution_count": 120,
   "id": "14fddcfa",
   "metadata": {},
   "outputs": [
    {
     "data": {
      "text/plain": [
       "HomeTeam          HT  \n",
       "Arsenal           0.0     342\n",
       "Tottenham         5.0     342\n",
       "Man United        4.0     342\n",
       "Everton           2.0     342\n",
       "Chelsea           1.0     342\n",
       "Liverpool         3.0     342\n",
       "Man City          6.0     323\n",
       "Aston Villa       7.0     304\n",
       "Newcastle         8.0     304\n",
       "West Ham          9.0     285\n",
       "Sunderland        10.0    266\n",
       "Fulham            11.0    247\n",
       "West Brom         12.0    228\n",
       "Bolton            14.0    209\n",
       "Southampton       15.0    209\n",
       "Blackburn         13.0    209\n",
       "Stoke             16.0    190\n",
       "Middlesbrough     17.0    171\n",
       "Wigan             18.0    152\n",
       "Swansea           23.0    133\n",
       "Portsmouth        22.0    133\n",
       "Leicester         21.0    133\n",
       "Charlton          20.0    133\n",
       "Birmingham        19.0    133\n",
       "Crystal Palace    24.0    114\n",
       "Hull              25.0     95\n",
       "Norwich           26.0     95\n",
       "Leeds             28.0     76\n",
       "Watford           29.0     76\n",
       "Burnley           27.0     76\n",
       "Wolves            30.0     76\n",
       "QPR               33.0     57\n",
       "Reading           34.0     57\n",
       "Derby             32.0     57\n",
       "Bournemouth       31.0     57\n",
       "Ipswich           35.0     38\n",
       "Coventry          40.0     19\n",
       "Cardiff           39.0     19\n",
       "Brighton          38.0     19\n",
       "Bradford          37.0     19\n",
       "Middlesboro       42.0     19\n",
       "Blackpool         36.0     19\n",
       "Huddersfield      41.0     19\n",
       "Sheffield United  43.0     19\n",
       "dtype: int64"
      ]
     },
     "execution_count": 120,
     "metadata": {},
     "output_type": "execute_result"
    }
   ],
   "source": [
    "df[[\"HomeTeam\", \"HT\"]].value_counts()"
   ]
  },
  {
   "cell_type": "code",
   "execution_count": null,
   "id": "e467e7ad",
   "metadata": {},
   "outputs": [],
   "source": []
  }
 ],
 "metadata": {
  "kernelspec": {
   "display_name": "Python 3 (ipykernel)",
   "language": "python",
   "name": "python3"
  },
  "language_info": {
   "codemirror_mode": {
    "name": "ipython",
    "version": 3
   },
   "file_extension": ".py",
   "mimetype": "text/x-python",
   "name": "python",
   "nbconvert_exporter": "python",
   "pygments_lexer": "ipython3",
   "version": "3.10.5"
  }
 },
 "nbformat": 4,
 "nbformat_minor": 5
}
